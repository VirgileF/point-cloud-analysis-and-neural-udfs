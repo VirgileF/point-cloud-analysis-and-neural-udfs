{
 "cells": [
  {
   "cell_type": "code",
   "execution_count": null,
   "id": "cb14547b",
   "metadata": {},
   "outputs": [],
   "source": [
    "import pandas as pd\n",
    "import matplotlib.pyplot as plt"
   ]
  },
  {
   "cell_type": "code",
   "execution_count": null,
   "id": "b1e9b7fd",
   "metadata": {},
   "outputs": [],
   "source": [
    "# metrics_csv_file = '/Users/virgilefoy/Data/ShapeNet_neural_udfs/xp_tables_100/metrics_1.csv'\n",
    "# metrics_csv_file = '/Users/virgilefoy/Data/ShapeNet_neural_udfs/xp_chairs_100/metrics_1.csv'\n",
    "metrics_csv_file = '/Users/virgilefoy/Data/ShapeNet_neural_udfs/xp_aiplanes_100/metrics_1.csv'\n",
    "# metrics_csv_file = '/Users/virgilefoy/Data/ShapeNet_neural_udfs/xp_cars_100/metrics_1.csv'\n",
    "\n",
    "df_csv = pd.read_csv(metrics_csv_file, index_col=0)\n",
    "\n",
    "df_csv.columns"
   ]
  },
  {
   "cell_type": "code",
   "execution_count": null,
   "id": "ea85517e",
   "metadata": {},
   "outputs": [],
   "source": [
    "df = df_csv[['shape_index', 'oversampling_strength', 'run_count', 'hausdorff', 'abs_neural_udf_on_warm_points']]\n",
    "\n",
    "df.head(15)"
   ]
  },
  {
   "cell_type": "code",
   "execution_count": null,
   "id": "48a8f74f",
   "metadata": {},
   "outputs": [],
   "source": [
    "improvements = ( (df[df['oversampling_strength']==0].groupby('shape_index')['hausdorff'].median() - df[df['oversampling_strength']==0.6].groupby('shape_index')['hausdorff'].median()) ) / df[df['oversampling_strength']==0].groupby('shape_index')['hausdorff'].median()\n",
    "\n",
    "print(improvements)"
   ]
  },
  {
   "cell_type": "code",
   "execution_count": null,
   "id": "647aeada",
   "metadata": {},
   "outputs": [],
   "source": [
    "print('proportion of positive improvement: ', (improvements>0).mean())\n",
    "print('median of improvements: ', improvements.median())\n",
    "print('median of positive improvements: ', improvements[improvements>0].median())\n",
    "\n",
    "## Chairs 100\n",
    "# proportion of positive improvement:  0.7333333333333333\n",
    "# median of improvements:  0.09048593057754972\n",
    "# median of positive improvements:  0.14007412132182825\n",
    "\n",
    "## Tables 100\n",
    "# proportion of positive improvement:  0.898989898989899\n",
    "# median of improvements:  0.21891784490165914\n",
    "# median of positive improvements:  0.2440043301511729\n",
    "\n",
    "## Airplanes 100\n",
    "# proportion of positive improvement:  0.9494949494949495\n",
    "# median of improvements:  0.2543321564242046\n",
    "# median of positive improvements:  0.26018622751456477\n",
    "\n",
    "## Cars 100\n",
    "# proportion of positive improvement:  0.7\n",
    "# median of improvements:  0.08548260174770689\n",
    "# median of positive improvements:  0.10606120782162033"
   ]
  },
  {
   "cell_type": "code",
   "execution_count": null,
   "id": "fd475347",
   "metadata": {},
   "outputs": [],
   "source": [
    "plt.figure()\n",
    "\n",
    "plt.hist(improvements, edgecolor='black', range=(-.75,.75), bins=20)\n",
    "plt.xlim(-.75,.75)\n",
    "plt.axvline(x=0, color='gray', linestyle='--', label='x=0')\n",
    "plt.xlabel(r'Improvements $\\mathcal{I}_{\\mathcal{B}_k}(n,\\xi)$', fontsize=16)\n",
    "plt.ylabel('Frequency', fontsize=18)\n",
    "plt.xticks(fontsize=15)\n",
    "plt.yticks(fontsize=15)\n",
    "plt.tight_layout()\n",
    "\n",
    "plt.savefig('./figures/histogram_of_improvements_cars100.pdf')\n",
    "\n",
    "plt.show()"
   ]
  },
  {
   "cell_type": "code",
   "execution_count": null,
   "id": "bceb69c7",
   "metadata": {},
   "outputs": [],
   "source": []
  }
 ],
 "metadata": {
  "kernelspec": {
   "display_name": "git_env",
   "language": "python",
   "name": "git_env"
  },
  "language_info": {
   "codemirror_mode": {
    "name": "ipython",
    "version": 3
   },
   "file_extension": ".py",
   "mimetype": "text/x-python",
   "name": "python",
   "nbconvert_exporter": "python",
   "pygments_lexer": "ipython3",
   "version": "3.8.19"
  }
 },
 "nbformat": 4,
 "nbformat_minor": 5
}
